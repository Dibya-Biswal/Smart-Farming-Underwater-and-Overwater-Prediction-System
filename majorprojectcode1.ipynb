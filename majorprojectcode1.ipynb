{
  "nbformat": 4,
  "nbformat_minor": 0,
  "metadata": {
    "colab": {
      "provenance": [],
      "authorship_tag": "ABX9TyOpA3gr1+PrPumDGc0GJQxJ",
      "include_colab_link": true
    },
    "kernelspec": {
      "name": "python3",
      "display_name": "Python 3"
    },
    "language_info": {
      "name": "python"
    }
  },
  "cells": [
    {
      "cell_type": "markdown",
      "metadata": {
        "id": "view-in-github",
        "colab_type": "text"
      },
      "source": [
        "<a href=\"https://colab.research.google.com/github/Dibya-Biswal/Smart-Farming-Underwater-and-Overwater-Prediction-System/blob/main/majorprojectcode1.ipynb\" target=\"_parent\"><img src=\"https://colab.research.google.com/assets/colab-badge.svg\" alt=\"Open In Colab\"/></a>"
      ]
    },
    {
      "cell_type": "code",
      "execution_count": 2,
      "metadata": {
        "colab": {
          "base_uri": "https://localhost:8080/"
        },
        "id": "MIfwEZ1T2rpD",
        "outputId": "ce80f606-31f1-417a-afea-5b0e8c8d4c57"
      },
      "outputs": [
        {
          "output_type": "stream",
          "name": "stdout",
          "text": [
            "Downloading data from https://www.cs.toronto.edu/~kriz/cifar-10-python.tar.gz\n",
            "170498071/170498071 [==============================] - 3s 0us/step\n",
            "Epoch 1/10\n",
            "1563/1563 [==============================] - 69s 43ms/step - loss: 1.5236 - accuracy: 0.4447 - val_loss: 1.2306 - val_accuracy: 0.5578\n",
            "Epoch 2/10\n",
            "1563/1563 [==============================] - 67s 43ms/step - loss: 1.1529 - accuracy: 0.5897 - val_loss: 1.1470 - val_accuracy: 0.5918\n",
            "Epoch 3/10\n",
            "1563/1563 [==============================] - 68s 44ms/step - loss: 1.0130 - accuracy: 0.6444 - val_loss: 0.9972 - val_accuracy: 0.6492\n",
            "Epoch 4/10\n",
            "1563/1563 [==============================] - 67s 43ms/step - loss: 0.9169 - accuracy: 0.6764 - val_loss: 1.0128 - val_accuracy: 0.6470\n",
            "Epoch 5/10\n",
            "1563/1563 [==============================] - 67s 43ms/step - loss: 0.8505 - accuracy: 0.7017 - val_loss: 0.9539 - val_accuracy: 0.6690\n",
            "Epoch 6/10\n",
            "1563/1563 [==============================] - 67s 43ms/step - loss: 0.7945 - accuracy: 0.7221 - val_loss: 0.8838 - val_accuracy: 0.6976\n",
            "Epoch 7/10\n",
            "1563/1563 [==============================] - 67s 43ms/step - loss: 0.7427 - accuracy: 0.7390 - val_loss: 0.9131 - val_accuracy: 0.6883\n",
            "Epoch 8/10\n",
            "1563/1563 [==============================] - 65s 42ms/step - loss: 0.6956 - accuracy: 0.7543 - val_loss: 0.9401 - val_accuracy: 0.6871\n",
            "Epoch 9/10\n",
            "1563/1563 [==============================] - 68s 44ms/step - loss: 0.6630 - accuracy: 0.7667 - val_loss: 0.8951 - val_accuracy: 0.6964\n",
            "Epoch 10/10\n",
            "1563/1563 [==============================] - 67s 43ms/step - loss: 0.6210 - accuracy: 0.7828 - val_loss: 0.9024 - val_accuracy: 0.6945\n",
            "313/313 - 3s - loss: 0.9024 - accuracy: 0.6945 - 3s/epoch - 11ms/step\n",
            "\n",
            "Test accuracy: 0.6945000290870667\n"
          ]
        }
      ],
      "source": [
        "import tensorflow as tf\n",
        "from tensorflow.keras import datasets, layers, models\n",
        "\n",
        "def load_and_preprocess_data():\n",
        "    # Load dataset\n",
        "    (train_images, train_labels), (test_images, test_labels) = datasets.cifar10.load_data()\n",
        "\n",
        "    # Normalize pixel values to be between 0 and 1\n",
        "    train_images, test_images = train_images / 255.0, test_images / 255.0\n",
        "\n",
        "    return (train_images, train_labels), (test_images, test_labels)\n",
        "\n",
        "def create_model():\n",
        "    # Create the convolutional base\n",
        "    model = models.Sequential([\n",
        "        layers.Conv2D(32, (3, 3), activation='relu', input_shape=(32, 32, 3)),\n",
        "        layers.MaxPooling2D((2, 2)),\n",
        "        layers.Conv2D(64, (3, 3), activation='relu'),\n",
        "        layers.MaxPooling2D((2, 2)),\n",
        "        layers.Conv2D(64, (3, 3), activation='relu'),\n",
        "        layers.Flatten(),\n",
        "        layers.Dense(64, activation='relu'),\n",
        "        layers.Dense(10)\n",
        "    ])\n",
        "\n",
        "    return model\n",
        "\n",
        "def train_model(model, train_images, train_labels, test_images, test_labels):\n",
        "    # Compile the model\n",
        "    model.compile(optimizer='adam',\n",
        "                  loss=tf.keras.losses.SparseCategoricalCrossentropy(from_logits=True),\n",
        "                  metrics=['accuracy'])\n",
        "\n",
        "    # Train the model\n",
        "    history = model.fit(train_images, train_labels, epochs=10,\n",
        "                        validation_data=(test_images, test_labels))\n",
        "\n",
        "    return history\n",
        "\n",
        "def evaluate_model(model, test_images, test_labels):\n",
        "    # Evaluate the model on the test data\n",
        "    test_loss, test_acc = model.evaluate(test_images, test_labels, verbose=2)\n",
        "    print('\\nTest accuracy:', test_acc)\n",
        "\n",
        "if __name__ == \"__main__\":\n",
        "    # Load and preprocess data\n",
        "    (train_images, train_labels), (test_images, test_labels) = load_and_preprocess_data()\n",
        "\n",
        "    # Create the model\n",
        "    model = create_model()\n",
        "\n",
        "    # Train the model\n",
        "    history = train_model(model, train_images, train_labels, test_images, test_labels)\n",
        "\n",
        "    # Evaluate the model\n",
        "    evaluate_model(model, test_images, test_labels)\n"
      ]
    }
  ]
}